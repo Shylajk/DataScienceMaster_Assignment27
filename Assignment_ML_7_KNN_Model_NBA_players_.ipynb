{
  "nbformat": 4,
  "nbformat_minor": 0,
  "metadata": {
    "colab": {
      "name": "Assignment ML - 7 KNN Model NBA players .ipynb",
      "version": "0.3.2",
      "provenance": [],
      "collapsed_sections": []
    },
    "kernelspec": {
      "name": "python3",
      "display_name": "Python 3"
    },
    "accelerator": "GPU"
  },
  "cells": [
    {
      "metadata": {
        "id": "B-u989Vtxv92",
        "colab_type": "code",
        "outputId": "775926c1-33a9-4975-e268-054fd747e569",
        "colab": {
          "base_uri": "https://localhost:8080/",
          "height": 52
        }
      },
      "cell_type": "code",
      "source": [
        "!pip install -U -q PyDrive"
      ],
      "execution_count": 1,
      "outputs": [
        {
          "output_type": "stream",
          "text": [
            "\u001b[?25l\r\u001b[K    1% |▎                               | 10kB 18.5MB/s eta 0:00:01\r\u001b[K    2% |▋                               | 20kB 1.8MB/s eta 0:00:01\r\u001b[K    3% |█                               | 30kB 2.7MB/s eta 0:00:01\r\u001b[K    4% |█▎                              | 40kB 1.7MB/s eta 0:00:01\r\u001b[K    5% |█▋                              | 51kB 2.1MB/s eta 0:00:01\r\u001b[K    6% |██                              | 61kB 2.5MB/s eta 0:00:01\r\u001b[K    7% |██▎                             | 71kB 2.8MB/s eta 0:00:01\r\u001b[K    8% |██▋                             | 81kB 3.0MB/s eta 0:00:01\r\u001b[K    9% |███                             | 92kB 3.4MB/s eta 0:00:01\r\u001b[K    10% |███▎                            | 102kB 2.8MB/s eta 0:00:01\r\u001b[K    11% |███▋                            | 112kB 2.8MB/s eta 0:00:01\r\u001b[K    12% |████                            | 122kB 4.0MB/s eta 0:00:01\r\u001b[K    13% |████▎                           | 133kB 4.0MB/s eta 0:00:01\r\u001b[K    14% |████▋                           | 143kB 7.5MB/s eta 0:00:01\r\u001b[K    15% |█████                           | 153kB 7.6MB/s eta 0:00:01\r\u001b[K    16% |█████▎                          | 163kB 6.8MB/s eta 0:00:01\r\u001b[K    17% |█████▋                          | 174kB 7.1MB/s eta 0:00:01\r\u001b[K    18% |██████                          | 184kB 8.0MB/s eta 0:00:01\r\u001b[K    19% |██████▎                         | 194kB 8.0MB/s eta 0:00:01\r\u001b[K    20% |██████▋                         | 204kB 23.2MB/s eta 0:00:01\r\u001b[K    21% |███████                         | 215kB 8.4MB/s eta 0:00:01\r\u001b[K    22% |███████▎                        | 225kB 8.5MB/s eta 0:00:01\r\u001b[K    23% |███████▋                        | 235kB 8.5MB/s eta 0:00:01\r\u001b[K    24% |████████                        | 245kB 8.5MB/s eta 0:00:01\r\u001b[K    25% |████████▎                       | 256kB 8.6MB/s eta 0:00:01\r\u001b[K    26% |████████▋                       | 266kB 9.6MB/s eta 0:00:01\r\u001b[K    27% |█████████                       | 276kB 9.7MB/s eta 0:00:01\r\u001b[K    29% |█████████▎                      | 286kB 9.7MB/s eta 0:00:01\r\u001b[K    30% |█████████▋                      | 296kB 9.6MB/s eta 0:00:01\r\u001b[K    31% |██████████                      | 307kB 10.0MB/s eta 0:00:01\r\u001b[K    32% |██████████▎                     | 317kB 42.2MB/s eta 0:00:01\r\u001b[K    33% |██████████▋                     | 327kB 42.3MB/s eta 0:00:01\r\u001b[K    34% |███████████                     | 337kB 43.7MB/s eta 0:00:01\r\u001b[K    35% |███████████▎                    | 348kB 36.7MB/s eta 0:00:01\r\u001b[K    36% |███████████▋                    | 358kB 36.6MB/s eta 0:00:01\r\u001b[K    37% |████████████                    | 368kB 41.8MB/s eta 0:00:01\r\u001b[K    38% |████████████▎                   | 378kB 41.7MB/s eta 0:00:01\r\u001b[K    39% |████████████▋                   | 389kB 41.8MB/s eta 0:00:01\r\u001b[K    40% |█████████████                   | 399kB 42.2MB/s eta 0:00:01\r\u001b[K    41% |█████████████▎                  | 409kB 41.4MB/s eta 0:00:01\r\u001b[K    42% |█████████████▋                  | 419kB 41.7MB/s eta 0:00:01\r\u001b[K    43% |██████████████                  | 430kB 41.7MB/s eta 0:00:01\r\u001b[K    44% |██████████████▎                 | 440kB 41.8MB/s eta 0:00:01\r\u001b[K    45% |██████████████▋                 | 450kB 11.1MB/s eta 0:00:01\r\u001b[K    46% |███████████████                 | 460kB 10.8MB/s eta 0:00:01\r\u001b[K    47% |███████████████▎                | 471kB 10.8MB/s eta 0:00:01\r\u001b[K    48% |███████████████▋                | 481kB 10.8MB/s eta 0:00:01\r\u001b[K    49% |████████████████                | 491kB 10.8MB/s eta 0:00:01\r\u001b[K    50% |████████████████▎               | 501kB 10.8MB/s eta 0:00:01\r\u001b[K    51% |████████████████▋               | 512kB 10.6MB/s eta 0:00:01\r\u001b[K    52% |█████████████████               | 522kB 10.6MB/s eta 0:00:01\r\u001b[K    53% |█████████████████▎              | 532kB 10.6MB/s eta 0:00:01\r\u001b[K    54% |█████████████████▋              | 542kB 10.6MB/s eta 0:00:01\r\u001b[K    55% |██████████████████              | 552kB 43.0MB/s eta 0:00:01\r\u001b[K    57% |██████████████████▎             | 563kB 46.9MB/s eta 0:00:01\r\u001b[K    58% |██████████████████▋             | 573kB 44.5MB/s eta 0:00:01\r\u001b[K    59% |███████████████████             | 583kB 43.7MB/s eta 0:00:01\r\u001b[K    60% |███████████████████▎            | 593kB 42.6MB/s eta 0:00:01\r\u001b[K    61% |███████████████████▋            | 604kB 42.5MB/s eta 0:00:01\r\u001b[K    62% |████████████████████            | 614kB 47.0MB/s eta 0:00:01\r\u001b[K    63% |████████████████████▎           | 624kB 46.6MB/s eta 0:00:01\r\u001b[K    64% |████████████████████▋           | 634kB 46.5MB/s eta 0:00:01\r\u001b[K    65% |█████████████████████           | 645kB 45.9MB/s eta 0:00:01\r\u001b[K    66% |█████████████████████▎          | 655kB 45.5MB/s eta 0:00:01\r\u001b[K    67% |█████████████████████▋          | 665kB 37.3MB/s eta 0:00:01\r\u001b[K    68% |██████████████████████          | 675kB 39.2MB/s eta 0:00:01\r\u001b[K    69% |██████████████████████▎         | 686kB 40.1MB/s eta 0:00:01\r\u001b[K    70% |██████████████████████▋         | 696kB 41.3MB/s eta 0:00:01\r\u001b[K    71% |███████████████████████         | 706kB 41.2MB/s eta 0:00:01\r\u001b[K    72% |███████████████████████▎        | 716kB 41.5MB/s eta 0:00:01\r\u001b[K    73% |███████████████████████▋        | 727kB 40.9MB/s eta 0:00:01\r\u001b[K    74% |████████████████████████        | 737kB 40.3MB/s eta 0:00:01\r\u001b[K    75% |████████████████████████▎       | 747kB 40.7MB/s eta 0:00:01\r\u001b[K    76% |████████████████████████▋       | 757kB 41.5MB/s eta 0:00:01\r\u001b[K    77% |████████████████████████▉       | 768kB 52.4MB/s eta 0:00:01\r\u001b[K    78% |█████████████████████████▏      | 778kB 52.0MB/s eta 0:00:01\r\u001b[K    79% |█████████████████████████▌      | 788kB 50.5MB/s eta 0:00:01\r\u001b[K    80% |█████████████████████████▉      | 798kB 50.5MB/s eta 0:00:01\r\u001b[K    81% |██████████████████████████▏     | 808kB 50.4MB/s eta 0:00:01\r\u001b[K    82% |██████████████████████████▌     | 819kB 49.7MB/s eta 0:00:01\r\u001b[K    83% |██████████████████████████▉     | 829kB 50.2MB/s eta 0:00:01\r\u001b[K    85% |███████████████████████████▏    | 839kB 18.2MB/s eta 0:00:01\r\u001b[K    86% |███████████████████████████▌    | 849kB 18.1MB/s eta 0:00:01\r\u001b[K    87% |███████████████████████████▉    | 860kB 17.3MB/s eta 0:00:01\r\u001b[K    88% |████████████████████████████▏   | 870kB 16.6MB/s eta 0:00:01\r\u001b[K    89% |████████████████████████████▌   | 880kB 16.7MB/s eta 0:00:01\r\u001b[K    90% |████████████████████████████▉   | 890kB 16.8MB/s eta 0:00:01\r\u001b[K    91% |█████████████████████████████▏  | 901kB 16.7MB/s eta 0:00:01\r\u001b[K    92% |█████████████████████████████▌  | 911kB 16.7MB/s eta 0:00:01\r\u001b[K    93% |█████████████████████████████▉  | 921kB 16.7MB/s eta 0:00:01\r\u001b[K    94% |██████████████████████████████▏ | 931kB 16.7MB/s eta 0:00:01\r\u001b[K    95% |██████████████████████████████▌ | 942kB 41.0MB/s eta 0:00:01\r\u001b[K    96% |██████████████████████████████▉ | 952kB 40.7MB/s eta 0:00:01\r\u001b[K    97% |███████████████████████████████▏| 962kB 44.9MB/s eta 0:00:01\r\u001b[K    98% |███████████████████████████████▌| 972kB 48.5MB/s eta 0:00:01\r\u001b[K    99% |███████████████████████████████▉| 983kB 48.0MB/s eta 0:00:01\r\u001b[K    100% |████████████████████████████████| 993kB 16.8MB/s \n",
            "\u001b[?25h  Building wheel for PyDrive (setup.py) ... \u001b[?25ldone\n",
            "\u001b[?25h"
          ],
          "name": "stdout"
        }
      ]
    },
    {
      "metadata": {
        "id": "33hDK3TcLi6e",
        "colab_type": "code",
        "colab": {}
      },
      "cell_type": "code",
      "source": [
        "#Importing Libraries\n",
        "import sqlite3\n",
        "import numpy as np\n",
        "import pylab as pl\n",
        "import pandas as pd\n",
        "import statsmodels.api as sm\n",
        "import matplotlib.pyplot as plt\n",
        "from math import sqrt\n",
        "from sklearn.metrics import mean_squared_error\n",
        "from sklearn.model_selection import train_test_split, cross_val_score\n",
        "%matplotlib inline"
      ],
      "execution_count": 0,
      "outputs": []
    },
    {
      "metadata": {
        "id": "JoPDfXnYPf7D",
        "colab_type": "code",
        "colab": {}
      },
      "cell_type": "code",
      "source": [
        "#Importing Libraries\n",
        "import keras\n",
        "import psutil\n",
        "import pandas as pd\n",
        "import tensorflow as tf\n",
        "from google.colab import auth\n",
        "from google.colab import files\n",
        "from pydrive.auth import GoogleAuth\n",
        "from pydrive.drive import GoogleDrive\n",
        "from oauth2client.client import GoogleCredentials"
      ],
      "execution_count": 0,
      "outputs": []
    },
    {
      "metadata": {
        "id": "VHmZDiVULuFR",
        "colab_type": "code",
        "colab": {}
      },
      "cell_type": "code",
      "source": [
        "auth.authenticate_user()\n",
        "gauth = GoogleAuth()\n",
        "gauth.credentials = GoogleCredentials.get_application_default()\n",
        "drive = GoogleDrive(gauth)"
      ],
      "execution_count": 0,
      "outputs": []
    },
    {
      "metadata": {
        "id": "fn8-VxDfNPj3",
        "colab_type": "code",
        "colab": {}
      },
      "cell_type": "code",
      "source": [
        "file1 = drive.CreateFile({'id':'1UXzjAG1VlpxisjQeiC5R2KaBmOPntYV-'})\n",
        "file1.GetContentFile('nba_2013.csv')"
      ],
      "execution_count": 0,
      "outputs": []
    },
    {
      "metadata": {
        "id": "Eei7oBv_Nrnb",
        "colab_type": "code",
        "outputId": "707d6e2f-c933-4a28-e5ba-c965d98a96f2",
        "colab": {
          "base_uri": "https://localhost:8080/",
          "height": 34
        }
      },
      "cell_type": "code",
      "source": [
        "!ls"
      ],
      "execution_count": 6,
      "outputs": [
        {
          "output_type": "stream",
          "text": [
            "adc.json  nba_2013.csv\tsample_data\n"
          ],
          "name": "stdout"
        }
      ]
    },
    {
      "metadata": {
        "id": "C9FsLTAgOUeX",
        "colab_type": "code",
        "outputId": "03d0b139-2ed4-4eb5-97ef-09e86681b3aa",
        "colab": {
          "base_uri": "https://localhost:8080/",
          "height": 70
        }
      },
      "cell_type": "code",
      "source": [
        "#NBA player data Download \n",
        "with open(\"nba_2013.csv\", 'r') as csvfile:\n",
        "    nba = pd.read_csv(csvfile)\n",
        "print(nba.columns.values) "
      ],
      "execution_count": 93,
      "outputs": [
        {
          "output_type": "stream",
          "text": [
            "['player' 'pos' 'age' 'bref_team_id' 'g' 'gs' 'mp' 'fg' 'fga' 'fg.' 'x3p'\n",
            " 'x3pa' 'x3p.' 'x2p' 'x2pa' 'x2p.' 'efg.' 'ft' 'fta' 'ft.' 'orb' 'drb'\n",
            " 'trb' 'ast' 'stl' 'blk' 'tov' 'pf' 'pts' 'season' 'season_end']\n"
          ],
          "name": "stdout"
        }
      ]
    },
    {
      "metadata": {
        "id": "Y1pR9G66jr5C",
        "colab_type": "code",
        "colab": {
          "base_uri": "https://localhost:8080/",
          "height": 34
        },
        "outputId": "2a8a0ea4-b7af-4918-8d40-69c18d80e29e"
      },
      "cell_type": "code",
      "source": [
        "nba.shape"
      ],
      "execution_count": 153,
      "outputs": [
        {
          "output_type": "execute_result",
          "data": {
            "text/plain": [
              "(403, 31)"
            ]
          },
          "metadata": {
            "tags": []
          },
          "execution_count": 153
        }
      ]
    },
    {
      "metadata": {
        "id": "k0WJyfrA_jg9",
        "colab_type": "code",
        "colab": {
          "base_uri": "https://localhost:8080/",
          "height": 226
        },
        "outputId": "44b3b755-d03a-4b1e-d942-d60f0452ef77"
      },
      "cell_type": "code",
      "source": [
        "nba.head(5)"
      ],
      "execution_count": 154,
      "outputs": [
        {
          "output_type": "execute_result",
          "data": {
            "text/html": [
              "<div>\n",
              "<style scoped>\n",
              "    .dataframe tbody tr th:only-of-type {\n",
              "        vertical-align: middle;\n",
              "    }\n",
              "\n",
              "    .dataframe tbody tr th {\n",
              "        vertical-align: top;\n",
              "    }\n",
              "\n",
              "    .dataframe thead th {\n",
              "        text-align: right;\n",
              "    }\n",
              "</style>\n",
              "<table border=\"1\" class=\"dataframe\">\n",
              "  <thead>\n",
              "    <tr style=\"text-align: right;\">\n",
              "      <th></th>\n",
              "      <th>player</th>\n",
              "      <th>pos</th>\n",
              "      <th>age</th>\n",
              "      <th>bref_team_id</th>\n",
              "      <th>g</th>\n",
              "      <th>gs</th>\n",
              "      <th>mp</th>\n",
              "      <th>fg</th>\n",
              "      <th>fga</th>\n",
              "      <th>fg.</th>\n",
              "      <th>...</th>\n",
              "      <th>drb</th>\n",
              "      <th>trb</th>\n",
              "      <th>ast</th>\n",
              "      <th>stl</th>\n",
              "      <th>blk</th>\n",
              "      <th>tov</th>\n",
              "      <th>pf</th>\n",
              "      <th>pts</th>\n",
              "      <th>season</th>\n",
              "      <th>season_end</th>\n",
              "    </tr>\n",
              "  </thead>\n",
              "  <tbody>\n",
              "    <tr>\n",
              "      <th>0</th>\n",
              "      <td>Quincy Acy</td>\n",
              "      <td>SF</td>\n",
              "      <td>23</td>\n",
              "      <td>TOT</td>\n",
              "      <td>63</td>\n",
              "      <td>0</td>\n",
              "      <td>847</td>\n",
              "      <td>66</td>\n",
              "      <td>141</td>\n",
              "      <td>0.468</td>\n",
              "      <td>...</td>\n",
              "      <td>144</td>\n",
              "      <td>216</td>\n",
              "      <td>28</td>\n",
              "      <td>23</td>\n",
              "      <td>26</td>\n",
              "      <td>30</td>\n",
              "      <td>122</td>\n",
              "      <td>171</td>\n",
              "      <td>2013-2014</td>\n",
              "      <td>2013</td>\n",
              "    </tr>\n",
              "    <tr>\n",
              "      <th>3</th>\n",
              "      <td>Arron Afflalo</td>\n",
              "      <td>SG</td>\n",
              "      <td>28</td>\n",
              "      <td>ORL</td>\n",
              "      <td>73</td>\n",
              "      <td>73</td>\n",
              "      <td>2552</td>\n",
              "      <td>464</td>\n",
              "      <td>1011</td>\n",
              "      <td>0.459</td>\n",
              "      <td>...</td>\n",
              "      <td>230</td>\n",
              "      <td>262</td>\n",
              "      <td>248</td>\n",
              "      <td>35</td>\n",
              "      <td>3</td>\n",
              "      <td>146</td>\n",
              "      <td>136</td>\n",
              "      <td>1330</td>\n",
              "      <td>2013-2014</td>\n",
              "      <td>2013</td>\n",
              "    </tr>\n",
              "    <tr>\n",
              "      <th>4</th>\n",
              "      <td>Alexis Ajinca</td>\n",
              "      <td>C</td>\n",
              "      <td>25</td>\n",
              "      <td>NOP</td>\n",
              "      <td>56</td>\n",
              "      <td>30</td>\n",
              "      <td>951</td>\n",
              "      <td>136</td>\n",
              "      <td>249</td>\n",
              "      <td>0.546</td>\n",
              "      <td>...</td>\n",
              "      <td>183</td>\n",
              "      <td>277</td>\n",
              "      <td>40</td>\n",
              "      <td>23</td>\n",
              "      <td>46</td>\n",
              "      <td>63</td>\n",
              "      <td>187</td>\n",
              "      <td>328</td>\n",
              "      <td>2013-2014</td>\n",
              "      <td>2013</td>\n",
              "    </tr>\n",
              "    <tr>\n",
              "      <th>6</th>\n",
              "      <td>LaMarcus Aldridge</td>\n",
              "      <td>PF</td>\n",
              "      <td>28</td>\n",
              "      <td>POR</td>\n",
              "      <td>69</td>\n",
              "      <td>69</td>\n",
              "      <td>2498</td>\n",
              "      <td>652</td>\n",
              "      <td>1423</td>\n",
              "      <td>0.458</td>\n",
              "      <td>...</td>\n",
              "      <td>599</td>\n",
              "      <td>765</td>\n",
              "      <td>178</td>\n",
              "      <td>63</td>\n",
              "      <td>68</td>\n",
              "      <td>123</td>\n",
              "      <td>147</td>\n",
              "      <td>1603</td>\n",
              "      <td>2013-2014</td>\n",
              "      <td>2013</td>\n",
              "    </tr>\n",
              "    <tr>\n",
              "      <th>7</th>\n",
              "      <td>Lavoy Allen</td>\n",
              "      <td>PF</td>\n",
              "      <td>24</td>\n",
              "      <td>TOT</td>\n",
              "      <td>65</td>\n",
              "      <td>2</td>\n",
              "      <td>1072</td>\n",
              "      <td>134</td>\n",
              "      <td>300</td>\n",
              "      <td>0.447</td>\n",
              "      <td>...</td>\n",
              "      <td>192</td>\n",
              "      <td>311</td>\n",
              "      <td>71</td>\n",
              "      <td>24</td>\n",
              "      <td>33</td>\n",
              "      <td>44</td>\n",
              "      <td>126</td>\n",
              "      <td>303</td>\n",
              "      <td>2013-2014</td>\n",
              "      <td>2013</td>\n",
              "    </tr>\n",
              "  </tbody>\n",
              "</table>\n",
              "<p>5 rows × 31 columns</p>\n",
              "</div>"
            ],
            "text/plain": [
              "              player pos  age bref_team_id   g  gs    mp   fg   fga    fg.  \\\n",
              "0         Quincy Acy  SF   23          TOT  63   0   847   66   141  0.468   \n",
              "3      Arron Afflalo  SG   28          ORL  73  73  2552  464  1011  0.459   \n",
              "4      Alexis Ajinca   C   25          NOP  56  30   951  136   249  0.546   \n",
              "6  LaMarcus Aldridge  PF   28          POR  69  69  2498  652  1423  0.458   \n",
              "7        Lavoy Allen  PF   24          TOT  65   2  1072  134   300  0.447   \n",
              "\n",
              "      ...      drb  trb  ast  stl  blk  tov   pf   pts     season  season_end  \n",
              "0     ...      144  216   28   23   26   30  122   171  2013-2014        2013  \n",
              "3     ...      230  262  248   35    3  146  136  1330  2013-2014        2013  \n",
              "4     ...      183  277   40   23   46   63  187   328  2013-2014        2013  \n",
              "6     ...      599  765  178   63   68  123  147  1603  2013-2014        2013  \n",
              "7     ...      192  311   71   24   33   44  126   303  2013-2014        2013  \n",
              "\n",
              "[5 rows x 31 columns]"
            ]
          },
          "metadata": {
            "tags": []
          },
          "execution_count": 154
        }
      ]
    },
    {
      "metadata": {
        "id": "opwmcOOQAwhq",
        "colab_type": "code",
        "colab": {}
      },
      "cell_type": "code",
      "source": [
        "#Importing Libraries\n",
        "from sklearn.preprocessing import Imputer\n",
        "from sklearn.neighbors import KNeighborsClassifier\n",
        "from sklearn.neighbors import KNeighborsRegressor\n",
        "from sklearn.metrics import accuracy_score\n",
        "import random\n",
        "from numpy.random import permutation\n",
        "import math"
      ],
      "execution_count": 0,
      "outputs": []
    },
    {
      "metadata": {
        "id": "cVfi_JlZIvUl",
        "colab_type": "code",
        "colab": {
          "base_uri": "https://localhost:8080/",
          "height": 585
        },
        "outputId": "92995a56-87a0-4c27-b0b0-180a23bb8c50"
      },
      "cell_type": "code",
      "source": [
        "# Check if data has any null values\n",
        "nba.isna().any()"
      ],
      "execution_count": 156,
      "outputs": [
        {
          "output_type": "execute_result",
          "data": {
            "text/plain": [
              "player          False\n",
              "pos             False\n",
              "age             False\n",
              "bref_team_id    False\n",
              "g               False\n",
              "gs              False\n",
              "mp              False\n",
              "fg              False\n",
              "fga             False\n",
              "fg.             False\n",
              "x3p             False\n",
              "x3pa            False\n",
              "x3p.            False\n",
              "x2p             False\n",
              "x2pa            False\n",
              "x2p.            False\n",
              "efg.            False\n",
              "ft              False\n",
              "fta             False\n",
              "ft.             False\n",
              "orb             False\n",
              "drb             False\n",
              "trb             False\n",
              "ast             False\n",
              "stl             False\n",
              "blk             False\n",
              "tov             False\n",
              "pf              False\n",
              "pts             False\n",
              "season          False\n",
              "season_end      False\n",
              "dtype: bool"
            ]
          },
          "metadata": {
            "tags": []
          },
          "execution_count": 156
        }
      ]
    },
    {
      "metadata": {
        "id": "Kr194YT3VATX",
        "colab_type": "code",
        "colab": {}
      },
      "cell_type": "code",
      "source": [
        "# drop data with null values\n",
        "nba.dropna(inplace=True)"
      ],
      "execution_count": 0,
      "outputs": []
    },
    {
      "metadata": {
        "id": "vWMuu698B0y6",
        "colab_type": "code",
        "colab": {}
      },
      "cell_type": "code",
      "source": [
        "# Defining X and Y columns\n",
        "\n",
        "X_columns =  ['age', 'g', 'gs', 'mp', 'fg', 'fga', 'fg.', 'x3p', 'x3pa', 'x3p.', 'x2p', 'x2pa', 'x2p.', 'efg.', 'ft', 'fta', 'ft.', 'orb', 'drb', 'trb', 'ast', 'stl', 'blk', 'tov', 'pf']\n",
        "Y_column = [\"pts\"]\n"
      ],
      "execution_count": 0,
      "outputs": []
    },
    {
      "metadata": {
        "id": "ARRyaXfKjJWN",
        "colab_type": "code",
        "colab": {}
      },
      "cell_type": "code",
      "source": [
        "# Assigning X and Y data values\n",
        "X = nba[X_columns].values\n",
        "y = nba[Y_column].values"
      ],
      "execution_count": 0,
      "outputs": []
    },
    {
      "metadata": {
        "id": "5sau1FzxkHYf",
        "colab_type": "code",
        "colab": {
          "base_uri": "https://localhost:8080/",
          "height": 34
        },
        "outputId": "bcf06661-457b-4352-802b-d5f42cae02c6"
      },
      "cell_type": "code",
      "source": [
        "X.shape"
      ],
      "execution_count": 103,
      "outputs": [
        {
          "output_type": "execute_result",
          "data": {
            "text/plain": [
              "(403, 25)"
            ]
          },
          "metadata": {
            "tags": []
          },
          "execution_count": 103
        }
      ]
    },
    {
      "metadata": {
        "id": "hCEWOqjNjFXz",
        "colab_type": "code",
        "colab": {}
      },
      "cell_type": "code",
      "source": [
        "# Train and Test split\n",
        "X_train, X_test, y_train, y_test = train_test_split(X, y, test_size = 0.3, random_state = 100)\n",
        "y_train = y_train.ravel()\n",
        "y_test = y_test.ravel()"
      ],
      "execution_count": 0,
      "outputs": []
    },
    {
      "metadata": {
        "id": "dzGDbVnznWlF",
        "colab_type": "code",
        "colab": {
          "base_uri": "https://localhost:8080/",
          "height": 478
        },
        "outputId": "7abf6352-08b6-496f-fe27-a31fe9310aed"
      },
      "cell_type": "code",
      "source": [
        "y_train"
      ],
      "execution_count": 143,
      "outputs": [
        {
          "output_type": "execute_result",
          "data": {
            "text/plain": [
              "array([ 890,  436, 1245,  352,  891,  814,  998,   22,  399,  878,  356,\n",
              "       1118, 1343,  183,  248,  298, 1241,   72, 1081,  763, 1209,  548,\n",
              "        810,   92, 1295,  824,  754,  470,  224, 1417,  408,  618,  197,\n",
              "        272,  138,  202,  174, 1002,   73,   99,  339,    5,  844,  911,\n",
              "          7,  461,    0,  425,  350,  579,   43,  716,  530,  261,   39,\n",
              "       1042,  140,   33,  592,   84,   63,  384,  404,  472,  403,  403,\n",
              "        115,  838,  532,  767,  315, 2593, 1594,   47,  414,  555,  781,\n",
              "       1071,  495,  622,  250,  485,  990,  339, 1560,  145,  378,  760,\n",
              "         44,  758,  153,  454, 1249,   64,  703,  982,   48,  491,  760,\n",
              "        544,   74,  626,  487,  890,  770,  115,  738,  178,  781, 1791,\n",
              "        436, 1010,  511,  915, 2089,  911,  416,  338, 1113,   26,  720,\n",
              "         98, 1256,  520,  312,  208,  939,  110,   71,  132,  850,  206,\n",
              "        448,   75,  338,  383,  315, 1144,   15, 1131,   97,  166, 1248,\n",
              "        511,  603,    1,   47,  796,  573, 1068, 1297,  268,  846, 1372,\n",
              "       1089, 1028, 1281,  529,   65,   40,  257, 1069,  143,  665, 1291,\n",
              "        810, 1119,  525,  401,  510, 1080,  791,  202,  178,  191, 1095,\n",
              "       1134,  588, 1096,   68,  893,  200,  189,  564,  280,   84,  350,\n",
              "       1289,   82,  661,  717,  429,   68,  970,  908,  401, 1394,  432,\n",
              "        721,  144,  404,  821,  283,  497,  211,    1,  696,   29,  987,\n",
              "        100,  921,   54,  490,  352, 1227,  508,  171,  250,  159,  967,\n",
              "        190,  930, 1249, 1542, 2112,  480,  636,  270,   28,  341,  871,\n",
              "        136,  132,   78, 2010,   32,  820,  538,  347,  339,  328,  784,\n",
              "        608,  181,  107,  457,    6,  645, 1457, 1417, 1873,  303, 1011,\n",
              "        216,  329,  194,  961,   26, 1282,   83, 1737,  587,  677, 1488,\n",
              "       1257,  988,  490,  159, 1106,  352,   19,  101,   83, 1304, 1012,\n",
              "        417,   25,  346,   14,   79,  102,  477])"
            ]
          },
          "metadata": {
            "tags": []
          },
          "execution_count": 143
        }
      ]
    },
    {
      "metadata": {
        "id": "ouzW7Ae4CamE",
        "colab_type": "code",
        "colab": {}
      },
      "cell_type": "code",
      "source": [
        "# Create the knn model.\n",
        "# Look at the five closest neighbors.\n",
        "knn = KNeighborsRegressor(n_neighbors=5)"
      ],
      "execution_count": 0,
      "outputs": []
    },
    {
      "metadata": {
        "id": "SONc1VNADgKk",
        "colab_type": "code",
        "colab": {}
      },
      "cell_type": "code",
      "source": [
        "# Fit the model on the training data.\n",
        "knn.fit(X_train, y_train)\n",
        "# Make point predictions on the test set using the fit model.\n",
        "y_pred = knn.predict(X_test)\n",
        "y_pred= y_pred.ravel()"
      ],
      "execution_count": 0,
      "outputs": []
    },
    {
      "metadata": {
        "id": "C9W4OUj4VaEj",
        "colab_type": "code",
        "colab": {
          "base_uri": "https://localhost:8080/",
          "height": 34
        },
        "outputId": "f766e428-91f3-43fb-9022-d8953a7df813"
      },
      "cell_type": "code",
      "source": [
        "#mean_squared_error \n",
        "np.sqrt(mean_squared_error(y_test, y_pred))"
      ],
      "execution_count": 162,
      "outputs": [
        {
          "output_type": "execute_result",
          "data": {
            "text/plain": [
              "83.77989068174192"
            ]
          },
          "metadata": {
            "tags": []
          },
          "execution_count": 162
        }
      ]
    },
    {
      "metadata": {
        "id": "TfTscz0-qeeH",
        "colab_type": "code",
        "colab": {}
      },
      "cell_type": "code",
      "source": [
        ""
      ],
      "execution_count": 0,
      "outputs": []
    },
    {
      "metadata": {
        "id": "9Fi_eFMpqe7w",
        "colab_type": "code",
        "colab": {}
      },
      "cell_type": "code",
      "source": [
        ""
      ],
      "execution_count": 0,
      "outputs": []
    }
  ]
}